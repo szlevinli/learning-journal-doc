{
 "cells": [
  {
   "cell_type": "markdown",
   "metadata": {},
   "source": [
    "# 置信区间 - Confidence Interval\n",
    "\n",
    "- 置信区间 (Confidence Interval): 是在统计中用来估计某个参数 (例如: 平均值) 范围的区间. 在一定的置信水平 (Confidence Level) 下, 这个区间内包含了真实参数的概率.\n",
    "- 置信水平 (Confidence Level): 是指置信区间包含真实参数值的概率, 通常用百分比表示. (例如: 95% 或 99%)\n",
    "\n",
    "在只有数据集的情况下, 通常先确定置信水平, 用来表示我们对置信区间包含真实参数值的信心程度. 确定置信水平后, 可以计算出相应的置信区间."
   ]
  },
  {
   "cell_type": "markdown",
   "metadata": {},
   "source": [
    "## 计算公式\n",
    "\n",
    "### 大样本 (使用标准正态分布)\n",
    "\n",
    "对于大样本 (一般认为样本量 $n \\geq 30$), 可以使用标准正态分布来计算置信区间:\n",
    "\n",
    "$$\n",
    "\\left( \\bar{x} - z \\frac{\\sigma}{\\sqrt{n}}, \\bar{x} + z \\frac{\\sigma}{\\sqrt{n}} \\right)\n",
    "$$\n",
    "\n",
    "- $\\bar{x}$ 是样本均值\n",
    "- $z$ 是标准正态分布的分位数 (例如, 95%置信水平下 $z \\approx 1.96$)\n",
    "- $\\sigma$ 是总体标准差\n",
    "- $n$ 是样本大小\n"
   ]
  },
  {
   "cell_type": "markdown",
   "metadata": {},
   "source": [
    "$z$ 值指的是 \"标准分数\" (Z-score, Z-value or Standard Score), 在统计学中用于表示某个数据点在标准正态分布中的位置, 衡量数据点与均值的距离, 以标准差为单位.\n",
    "\n",
    "在计算置信区间是, $z$ 值代表标准正态分布在给定置信水平下的临界值.\n",
    "\n",
    "$z$ 的计算公式:\n",
    "\n",
    "$$\n",
    "z = \\Phi^{-1}\\left(1 - \\frac{\\alpha}{2}\\right)\n",
    "$$\n",
    "\n",
    "- $\\Phi^{-1}$ 是标准正态分布的逆累计分布函数 (Inverse Cumulative Distribution Function), 也称为百分位数函数.\n",
    "- $\\alpha = 1 - \\text{confidence level}$ 是显著性水平 (Significance Level). 显著性水平表示置信区间以外的概率.\n",
    "\n"
   ]
  },
  {
   "cell_type": "markdown",
   "metadata": {},
   "source": [
    "\n",
    "$\\sigma$ 的计算公式:\n",
    "\n",
    "$$\n",
    "\\sigma = \\sqrt{\\frac{1}{n - 1} \\sum_{i = 1}^{n} (x_i - \\bar{x})^2}\n",
    "$$\n",
    "\n",
    "- $x_i$ 是第 $i$ 个样本值\n",
    "- $\\bar{x}$ 是样本均值\n",
    "- $n$ 是样本大小"
   ]
  },
  {
   "cell_type": "markdown",
   "metadata": {},
   "source": [
    "下面使用 seaborn 自带的数据集，来演示置信区间的计算。\n",
    "\n",
    "同时采用 scipy 中的 stats 模块来计算相关数据, 比如 $z$ 值, 标准差等."
   ]
  },
  {
   "cell_type": "code",
   "execution_count": 4,
   "metadata": {},
   "outputs": [],
   "source": [
    "import pandas as pd\n",
    "import scipy.stats as stats\n",
    "import numpy as np"
   ]
  },
  {
   "cell_type": "code",
   "execution_count": 6,
   "metadata": {},
   "outputs": [],
   "source": [
    "# Load data\n",
    "tips = pd.read_csv(\"../../data/tips.csv\")"
   ]
  },
  {
   "cell_type": "code",
   "execution_count": 15,
   "metadata": {},
   "outputs": [
    {
     "name": "stdout",
     "output_type": "stream",
     "text": [
      "样本均值: 3.00\n",
      "样本标准差: 1.38\n",
      "样本量: 244\n",
      "设置的置信水平: 0.95\n",
      "显著性水平: 0.05\n",
      "z-score: 1.96\n",
      "标准误差: 0.09\n",
      "在置信水平 0.95 下，置信区间为: [2.82, 3.17]\n"
     ]
    }
   ],
   "source": [
    "# 样本均值\n",
    "mean_tip = tips[\"tip\"].mean()\n",
    "# 样本标准差\n",
    "std_tip = tips[\"tip\"].std()\n",
    "\n",
    "# 样本量\n",
    "n = len(tips[\"tip\"])\n",
    "\n",
    "# 置信水平\n",
    "confidence_level = 0.95\n",
    "# 显著性水平\n",
    "alpha = 1 - confidence_level\n",
    "\n",
    "# z-score\n",
    "z_score = stats.norm.ppf(1 - alpha / 2)\n",
    "\n",
    "# 标准误差\n",
    "sem_tip = std_tip / np.sqrt(n)\n",
    "\n",
    "# 误差边界\n",
    "margin_error = z_score * sem_tip\n",
    "\n",
    "# 置信区间\n",
    "lower_bound = mean_tip - margin_error\n",
    "upper_bound = mean_tip + margin_error\n",
    "\n",
    "print(f\"样本均值: {mean_tip:.2f}\")\n",
    "print(f\"样本标准差: {std_tip:.2f}\")\n",
    "print(f\"样本量: {n}\")\n",
    "print(f\"设置的置信水平: {confidence_level}\")\n",
    "print(f\"显著性水平: {alpha:.2f}\")\n",
    "print(f\"z-score: {z_score:.2f}\")\n",
    "print(f\"标准误差: {sem_tip:.2f}\")\n",
    "print(\n",
    "    f\"在置信水平 {confidence_level} 下，置信区间为: [{lower_bound:.2f}, {upper_bound:.2f}]\"\n",
    ")"
   ]
  },
  {
   "cell_type": "markdown",
   "metadata": {},
   "source": [
    "> **上面的计算的结果表示: 我们有 95% 的把握, 小费 (tip) 在 2.82 到 3.17 之间.**"
   ]
  },
  {
   "cell_type": "markdown",
   "metadata": {},
   "source": [
    "\n",
    "### 小样本 (使用 t 分布)\n",
    "\n",
    "对于小样本 (一般认为样本量 $n \\leq 30$), 可以使用 t 分布来计算置信区间:\n",
    "\n",
    "$$\n",
    "\\left( \\bar{x} - t_{n-1} \\frac{s}{\\sqrt{n}}, \\bar{x} + t_{n-1} \\frac{s}{\\sqrt{n}} \\right)\n",
    "$$\n",
    "\n",
    "- $\\bar{x}$ 是样本均值\n",
    "- $t_{n-1}$ 是 t 分布的分位数 (例如, 95%置信水平下 $t_{n-1} \\approx 2.02$)\n",
    "- $s$ 是样本标准差\n",
    "- $n$ 是样本大小"
   ]
  },
  {
   "cell_type": "code",
   "execution_count": null,
   "metadata": {},
   "outputs": [],
   "source": []
  }
 ],
 "metadata": {
  "kernelspec": {
   "display_name": "py312",
   "language": "python",
   "name": "python3"
  },
  "language_info": {
   "codemirror_mode": {
    "name": "ipython",
    "version": 3
   },
   "file_extension": ".py",
   "mimetype": "text/x-python",
   "name": "python",
   "nbconvert_exporter": "python",
   "pygments_lexer": "ipython3",
   "version": "3.12.2"
  }
 },
 "nbformat": 4,
 "nbformat_minor": 2
}
